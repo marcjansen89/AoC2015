{
 "cells": [
  {
   "cell_type": "markdown",
   "metadata": {},
   "source": [
    "We beginnen bij 0. Karakter '(' = +1 en ')' =-1\n",
    "Deel 1: op welke vloer eindigen we?\n",
    "Deel 2: op welke positie eindigen we als eerst op -1?"
   ]
  },
  {
   "cell_type": "code",
   "execution_count": null,
   "metadata": {},
   "outputs": [],
   "source": [
    "with open('input.txt', 'r') as file:\n",
    "    data = file.read().replace('\\n', '')"
   ]
  },
  {
   "cell_type": "code",
   "execution_count": null,
   "metadata": {},
   "outputs": [],
   "source": [
    "# Dag 1, deel 1\n",
    "floor = 0\n",
    "for c in data:\n",
    "    if c == '(':\n",
    "        floor +=1\n",
    "    elif c == ')':\n",
    "        floor -=1\n",
    "print(floor)"
   ]
  },
  {
   "cell_type": "code",
   "execution_count": null,
   "metadata": {},
   "outputs": [],
   "source": [
    "#Dag 1, deel 2\n",
    "floor = 0\n",
    "pos = 0\n",
    "for c in data:\n",
    "    pos +=1\n",
    "    if c == '(':\n",
    "        floor += 1\n",
    "        if floor == -1:\n",
    "            print(pos)\n",
    "            break\n",
    "    elif c == ')':\n",
    "        floor -=1\n",
    "        if floor == -1:\n",
    "            print(pos)\n",
    "            break"
   ]
  },
  {
   "cell_type": "code",
   "execution_count": null,
   "metadata": {},
   "outputs": [],
   "source": []
  }
 ],
 "metadata": {
  "kernelspec": {
   "display_name": "Python 3.11.0 64-bit",
   "language": "python",
   "name": "python3"
  },
  "language_info": {
   "codemirror_mode": {
    "name": "ipython",
    "version": 3
   },
   "file_extension": ".py",
   "mimetype": "text/x-python",
   "name": "python",
   "nbconvert_exporter": "python",
   "pygments_lexer": "ipython3",
   "version": "3.11.0"
  },
  "orig_nbformat": 4,
  "vscode": {
   "interpreter": {
    "hash": "5238573367df39f7286bb46f9ff5f08f63a01a80960060ce41e3c79b190280fa"
   }
  }
 },
 "nbformat": 4,
 "nbformat_minor": 2
}
