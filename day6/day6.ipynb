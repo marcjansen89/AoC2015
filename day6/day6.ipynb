{
 "cells": [
  {
   "cell_type": "markdown",
   "metadata": {},
   "source": [
    "Deel1:\n",
    "\n",
    "1000x1000 grid.\n",
    "0,0, = top left \n",
    "0,999 = top right\n",
    "999,999 = bottom right\n",
    "999,0 = bottom left\n",
    "\n",
    "instructions include whether to turn on, turn off, or toggle various inclusive ranges given as coordinate pairs. \n",
    "Each coordinate pair represents opposite corners of a rectangle, inclusive; a coordinate pair like 0,0 through 2,2 therefore refers to 9 lights in a 3x3 square. \n",
    "The lights all start turned off.\n",
    "\n"
   ]
  },
  {
   "cell_type": "code",
   "execution_count": 1,
   "metadata": {},
   "outputs": [],
   "source": [
    "import numpy\n",
    "import pandas\n",
    "\n",
    "with open('input.txt', 'r') as file:\n",
    "    data = file.readlines()\n",
    "\n",
    "grid = numpy.zeros((1000, 1000))\n",
    " \n",
    "  "
   ]
  },
  {
   "cell_type": "code",
   "execution_count": 6,
   "metadata": {},
   "outputs": [],
   "source": [
    "def turnOn(range):  \n",
    "  grid[int(range[0]),int(range[1]):int(range[2]):int(range[3])] = 1\n",
    "\n",
    "def turnOff(range):\n",
    "  grid[int(range[0]):int(range[1]), int(range[2]):int(range[3])]  = 0\n",
    "\n",
    "def toggle(range):\n",
    "  grid[int(range[0]):int(range[1]), int(range[2]):int(range[3])]  = 2"
   ]
  },
  {
   "cell_type": "code",
   "execution_count": 7,
   "metadata": {},
   "outputs": [],
   "source": [
    "#bepaal nu per regel de operatie en de range\n",
    "for string in data:\n",
    "  cleanstring = string\n",
    "  if \"turn on\" in string:\n",
    "    cleanstring = cleanstring.replace('\\n', '')\n",
    "    cleanstring = cleanstring.replace('turn on', '')\n",
    "    cleanstring = cleanstring.replace('through', ', ')\n",
    "    range = cleanstring.split(\",\")\n",
    "    turnOn(range)\n",
    "    \n",
    "  elif \"turn off\" in string:\n",
    "    cleanstring = cleanstring.replace('turn off', '')\n",
    "    cleanstring = cleanstring.replace('through', ', ')    \n",
    "    range = cleanstring.split(\",\")\n",
    "    turnOff(range)\n",
    "\n",
    "  elif \"toggle\" in \"string\":\n",
    "    cleanstring = cleanstring.replace('toggle', '')\n",
    "    cleanstring = cleanstring.replace('through', ', ')\n",
    "    range = cleanstring.split(\",\")\n",
    "    toggle(range)"
   ]
  },
  {
   "cell_type": "markdown",
   "metadata": {},
   "source": []
  }
 ],
 "metadata": {
  "kernelspec": {
   "display_name": "Python 3.11.0 64-bit",
   "language": "python",
   "name": "python3"
  },
  "language_info": {
   "codemirror_mode": {
    "name": "ipython",
    "version": 3
   },
   "file_extension": ".py",
   "mimetype": "text/x-python",
   "name": "python",
   "nbconvert_exporter": "python",
   "pygments_lexer": "ipython3",
   "version": "3.11.0"
  },
  "orig_nbformat": 4,
  "vscode": {
   "interpreter": {
    "hash": "8e7d73baf873fcb0544d9d5961aca3d5ca742b8a85bb33ce7f6f853e6b1187f4"
   }
  }
 },
 "nbformat": 4,
 "nbformat_minor": 2
}
