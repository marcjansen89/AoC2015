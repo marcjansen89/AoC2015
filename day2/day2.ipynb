{
 "cells": [
  {
   "cell_type": "markdown",
   "metadata": {},
   "source": [
    "Deel 1: Bereken voor elk cadeautje de oppervlakte\n",
    "2*l*w + 2*w*h + 2*h*l.\n",
    "They have a list of the dimensions (length l, width w, and height h) of each present\n",
    "Ook heeft elk cadeautje een beetje extra nodig, de oppervlakte van de kleinste kant\n",
    "\n",
    "Voorbeeld:\n",
    "2x3x4 requires 2*6 + 2*12 + 2*8 = 52 square feet of wrapping paper plus 6 square feet of slack, for a total of 58 square feet."
   ]
  },
  {
   "cell_type": "code",
   "execution_count": null,
   "metadata": {},
   "outputs": [],
   "source": [
    "with open('input.txt', 'r') as file:\n",
    "    data = file.readlines()"
   ]
  },
  {
   "cell_type": "code",
   "execution_count": null,
   "metadata": {},
   "outputs": [],
   "source": [
    "totalpaper = 0\n",
    "\n",
    "for present in data:\n",
    "    values =present.replace('\\n', '').split('x')\n",
    "    lw = (int(values[0])*int(values[1]))\n",
    "    wh = (int(values[1])*int(values[2]))\n",
    "    hl = (int(values[2])*int(values[0]))\n",
    "    slack = min(lw, wh, hl)\n",
    "    paper = 2*(lw) + 2*(wh) + 2*(hl) + slack\n",
    "    totalpaper += paper\n",
    "    \n",
    "print(totalpaper)\n"
   ]
  },
  {
   "cell_type": "markdown",
   "metadata": {},
   "source": [
    "Deel 2:\n",
    "The ribbon required to wrap a present is the shortest distance around its sides, or the smallest perimeter of any one face. \n",
    "Each present also requires a bow made out of ribbon as well; the feet of ribbon required for the perfect bow is equal to the cubic feet of volume of the present. \n",
    "\n",
    "A present with dimensions 2x3x4 requires 2+2+3+3 = 10 feet of ribbon to wrap the present plus 2*3*4 = 24 feet of ribbon for the bow, for a total of 34 feet."
   ]
  },
  {
   "cell_type": "code",
   "execution_count": null,
   "metadata": {},
   "outputs": [],
   "source": [
    "totalribbon = 0\n",
    "\n",
    "for present in data:\n",
    "    values = present.replace('\\n', '').split('x')\n",
    "    w = int(values[0])\n",
    "    h = int(values[1])\n",
    "    l = int(values[2])\n",
    "    r = sorted([w,h,l])\n",
    "    totalribbon += r[0] + r[0] + r[1] +r[1] + (w*h*l)\n",
    "\n",
    "print(totalribbon)"
   ]
  },
  {
   "cell_type": "code",
   "execution_count": null,
   "metadata": {},
   "outputs": [],
   "source": []
  }
 ],
 "metadata": {
  "kernelspec": {
   "display_name": "Python 3.11.0 64-bit",
   "language": "python",
   "name": "python3"
  },
  "language_info": {
   "codemirror_mode": {
    "name": "ipython",
    "version": 3
   },
   "file_extension": ".py",
   "mimetype": "text/x-python",
   "name": "python",
   "nbconvert_exporter": "python",
   "pygments_lexer": "ipython3",
   "version": "3.11.0"
  },
  "orig_nbformat": 4,
  "vscode": {
   "interpreter": {
    "hash": "5238573367df39f7286bb46f9ff5f08f63a01a80960060ce41e3c79b190280fa"
   }
  }
 },
 "nbformat": 4,
 "nbformat_minor": 2
}
