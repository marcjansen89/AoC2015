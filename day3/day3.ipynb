{
 "cells": [
  {
   "cell_type": "markdown",
   "metadata": {},
   "source": [
    "Deel 1:\n",
    "Moves are always exactly one house to the north (^), south (v), east (>), or west (<). After each move, he delivers another present to the house at his new location.\n",
    "robo ends up visiting some houses more than once. How many houses receive at least one present?\n",
    "\n",
    "For example:\n",
    "\n",
    "'>' delivers presents to 2 houses: one at the starting location, and one to the east.\n",
    "'^>v<' delivers presents to 4 houses in a square, including twice to the house at his starting/ending location.\n",
    "'^v^v^v^v^v' delivers a bunch of presents to some very lucky children at only 2 houses."
   ]
  },
  {
   "cell_type": "code",
   "execution_count": 69,
   "metadata": {},
   "outputs": [],
   "source": [
    "import numpy"
   ]
  },
  {
   "cell_type": "code",
   "execution_count": 95,
   "metadata": {},
   "outputs": [
    {
     "data": {
      "text/plain": [
       "2592"
      ]
     },
     "execution_count": 95,
     "metadata": {},
     "output_type": "execute_result"
    }
   ],
   "source": [
    "with open('input.txt', 'r') as file:\n",
    "    data = file.read()\n",
    "count = len(data)\n",
    "half = int(count/2)\n",
    "\n",
    "matrix = numpy.zeros((count, count))\n",
    "\n",
    "pos_lr = half\n",
    "pos_ud = half\n",
    "\n",
    "#begin in het midden\n",
    "matrix[pos_lr, pos_ud] = 1\n",
    "\n",
    "for c in data:\n",
    "    if c == '>':\n",
    "        pos_lr +=1\n",
    "        matrix[pos_ud, pos_lr] = 1\n",
    "    elif c == '<':\n",
    "        pos_lr -=1\n",
    "        matrix[pos_ud, pos_lr] = 1\n",
    "    elif c == '^':\n",
    "        pos_ud -=1\n",
    "        matrix[pos_ud, pos_lr] = 1\n",
    "    elif c == 'v':\n",
    "        pos_ud +=1\n",
    "        matrix[pos_ud, pos_lr] = 1\n",
    "    \n",
    "numpy.count_nonzero(matrix == 1)\n",
    "\n",
    "  \n"
   ]
  },
  {
   "cell_type": "markdown",
   "metadata": {},
   "source": [
    "Deel 2:\n",
    "robo and Robo-Santa start at the same location then take turns moving\n",
    "This year, how many houses receive at least one present?\n",
    "\n",
    "For example:\n",
    "\n",
    "'^v' delivers presents to 3 houses, because Santa goes north, and then Robo-Santa goes south.\n",
    "'^>v<' now delivers presents to 3 houses, and Santa and Robo-Santa end up back where they started.\n",
    "'^v^v^v^v^v' now delivers presents to 11 houses, with Santa going one direction and Robo-Santa going the other."
   ]
  },
  {
   "cell_type": "code",
   "execution_count": 96,
   "metadata": {},
   "outputs": [
    {
     "name": "stdout",
     "output_type": "stream",
     "text": [
      "2360\n"
     ]
    }
   ],
   "source": [
    "with open('input.txt', 'r') as file:\n",
    "    data = file.read()\n",
    "count = len(data)\n",
    "half = int(count/2)\n",
    "\n",
    "matrix = numpy.zeros((count +1, count +1))\n",
    "\n",
    "pos_lr_santa = half\n",
    "pos_ud_santa = half\n",
    "\n",
    "pos_lr_robo = half\n",
    "pos_ud_robo = half\n",
    "\n",
    "#begin in het midden\n",
    "matrix[pos_lr_santa, pos_ud_santa] = 1\n",
    "\n",
    "counter = 0\n",
    "\n",
    "for c in data:\n",
    "    counter +=1\n",
    "    if (counter%2) == 0:\n",
    "        #santa's beurt\n",
    "        if c == '>':\n",
    "            pos_lr_santa +=1\n",
    "            matrix[pos_ud_santa, pos_lr_santa] = 1\n",
    "        elif c == '<':\n",
    "            pos_lr_santa -=1\n",
    "            matrix[pos_ud_santa, pos_lr_santa] = 1\n",
    "        elif c == '^':\n",
    "            pos_ud_santa -=1\n",
    "            matrix[pos_ud_santa, pos_lr_santa] = 1\n",
    "        elif c == 'v':\n",
    "            pos_ud_santa +=1\n",
    "            matrix[pos_ud_santa, pos_lr_santa] = 1\n",
    "    else:\n",
    "        #robo beurt\n",
    "        if c == '>':\n",
    "            pos_lr_robo +=1\n",
    "            matrix[pos_ud_robo, pos_lr_robo] = 1\n",
    "        elif c == '<':\n",
    "            pos_lr_robo -=1\n",
    "            matrix[pos_ud_robo, pos_lr_robo] = 1\n",
    "        elif c == '^':\n",
    "            pos_ud_robo -=1\n",
    "            matrix[pos_ud_robo, pos_lr_robo] = 1\n",
    "        elif c == 'v':\n",
    "            pos_ud_robo +=1\n",
    "            matrix[pos_ud_robo, pos_lr_robo] = 1\n",
    "            \n",
    "total = numpy.count_nonzero(matrix == 1)\n",
    "print(total)"
   ]
  },
  {
   "cell_type": "code",
   "execution_count": null,
   "metadata": {},
   "outputs": [],
   "source": []
  }
 ],
 "metadata": {
  "kernelspec": {
   "display_name": "Python 3.11.0 64-bit",
   "language": "python",
   "name": "python3"
  },
  "language_info": {
   "codemirror_mode": {
    "name": "ipython",
    "version": 3
   },
   "file_extension": ".py",
   "mimetype": "text/x-python",
   "name": "python",
   "nbconvert_exporter": "python",
   "pygments_lexer": "ipython3",
   "version": "3.11.0"
  },
  "orig_nbformat": 4,
  "vscode": {
   "interpreter": {
    "hash": "5238573367df39f7286bb46f9ff5f08f63a01a80960060ce41e3c79b190280fa"
   }
  }
 },
 "nbformat": 4,
 "nbformat_minor": 2
}
